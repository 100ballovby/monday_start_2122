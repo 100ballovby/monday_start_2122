{
 "cells": [
  {
   "cell_type": "markdown",
   "metadata": {
    "collapsed": true
   },
   "source": [
    "# Массивы\n",
    "\n",
    "<p><b>Массив</b> - упорядоченная коллекция данных, одного типа и ограниченной длины.</p>\n",
    "\n",
    "<pre><code>\n",
    "int array[5] = {\n",
    "    1, 56, 7, 4, 89\n",
    "}\n",
    "</code></pre>\n",
    "\n",
    "<p>В <b>Python</b> массивы отствуют. Вместо них были добавлены списки. Список - упорядоченная коллекция данных, не имеющая ограничений по типу данных и по количеству элементов. Элементы списка заключены в <code>[]</code> и разделены между собой <code>,</code>.</p>"
   ]
  },
  {
   "cell_type": "code",
   "execution_count": 1,
   "metadata": {},
   "outputs": [
    {
     "name": "stdout",
     "output_type": "stream",
     "text": [
      "<class 'list'>\n"
     ]
    }
   ],
   "source": [
    "my_list = []\n",
    "\n",
    "print(type(my_list))"
   ]
  },
  {
   "cell_type": "markdown",
   "metadata": {},
   "source": [
    "<p><code>type(x)</code> - определяет тип данных переменной <code>x</code>.</p>"
   ]
  },
  {
   "cell_type": "code",
   "execution_count": 2,
   "metadata": {},
   "outputs": [],
   "source": [
    "favorite_food = ['pizza', 'pasta', 'cookies', 'grape', 'orange']"
   ]
  },
  {
   "cell_type": "markdown",
   "metadata": {},
   "source": [
    "<p><b>Элементы списка можно переназначать.</b> Для перензначения элемента, нужно обратиться к имени списка, выбрать необходимый элемент по его порядковому номеру, поставить значок <code>=</code> и указать новое значение.</p>\n",
    "\n",
    "<p>Списки поддерживают индексацию - каждому элементу списка присвоен свой порядковый номер, нумерация начинается с <code>0</code>.</p>"
   ]
  },
  {
   "cell_type": "code",
   "execution_count": 3,
   "metadata": {},
   "outputs": [
    {
     "name": "stdout",
     "output_type": "stream",
     "text": [
      "['pizza', 'pasta', 'cookies', 'apple', 'orange']\n"
     ]
    }
   ],
   "source": [
    "favorite_food[3] = 'apple'\n",
    "print(favorite_food)"
   ]
  },
  {
   "cell_type": "markdown",
   "metadata": {},
   "source": [
    "## Математические операции со списками\n",
    "\n",
    "<ol>\n",
    "    <li><code>+</code> - сложение. Можно складывать только <code>list</code> и <code>list</code>, в этом случае вы получите объединенный список.</li>\n",
    "    <li><code>*</code> - умножение. Можно умножать только <code>list</code> на <code>int</code>, в этом случае вы получите объединенный список, который состоит из изначального списка, повторенного <code>int</code>.</li>\n",
    "</ol>"
   ]
  },
  {
   "cell_type": "code",
   "execution_count": 5,
   "metadata": {},
   "outputs": [
    {
     "name": "stdout",
     "output_type": "stream",
     "text": [
      "[1, 2, 3, 6, 5, 4]\n",
      "[1, 2, 3, 1, 2, 3, 1, 2, 3, 1, 2, 3]\n"
     ]
    }
   ],
   "source": [
    "l1 = [1, 2, 3]\n",
    "l2 = [6, 5, 4]\n",
    "\n",
    "print(l1 + l2)\n",
    "\n",
    "print(l1 * 4)"
   ]
  },
  {
   "cell_type": "markdown",
   "metadata": {},
   "source": [
    "## Методы списков\n",
    "\n",
    "<ol>\n",
    "    <li><code>.append(object)</code> - добавляет в конец списка элемент <code>object</code>;</li>\n",
    "    <li><code>.insert(index, object)</code> вставляет элемент <code>object</code> на место <code>index</code>. Оставшиеся элементы сдвигаются;</li>\n",
    "    <li><code>.pop()</code> - удаляет последний элемент списка. <code>.pop(index)</code> - удаляет из списка элемент с индексом <code>index</code>;</li>\n",
    "    <li><code>.sort()</code> - сортирует элементы списка по возрастанию.</li>\n",
    "</ol>"
   ]
  },
  {
   "cell_type": "code",
   "execution_count": 15,
   "metadata": {},
   "outputs": [
    {
     "name": "stdout",
     "output_type": "stream",
     "text": [
      "[67, 4, 90, 43, 12, 67, 89, 35, -10, -35]\n"
     ]
    }
   ],
   "source": [
    "nums = [67, 4, 90, 43, 12, 67, 89, 35, -10]\n",
    "\n",
    "nums.append(-35)\n",
    "print(nums)"
   ]
  },
  {
   "cell_type": "markdown",
   "metadata": {},
   "source": [
    "<p>Добавил число <code>-35</code> в конец списка.</p>"
   ]
  },
  {
   "cell_type": "code",
   "execution_count": 16,
   "metadata": {},
   "outputs": [
    {
     "name": "stdout",
     "output_type": "stream",
     "text": [
      "[67, 4, 90, 16, 43, 12, 67, 89, 35, -10, -35]\n"
     ]
    }
   ],
   "source": [
    "nums.insert(3, 16)\n",
    "print(nums)"
   ]
  },
  {
   "cell_type": "markdown",
   "metadata": {},
   "source": [
    "<p>При использовании метода <code>.insert()</code> элементы сдвигаются вправо.</p>"
   ]
  },
  {
   "cell_type": "code",
   "execution_count": 17,
   "metadata": {},
   "outputs": [
    {
     "name": "stdout",
     "output_type": "stream",
     "text": [
      "[67, 4, 90, 16, 43, 12, 67, 89, 35, -10]\n",
      "[67, 90, 16, 43, 12, 67, 89, 35, -10]\n"
     ]
    }
   ],
   "source": [
    "nums.pop()  # удалить последний\n",
    "print(nums)\n",
    "\n",
    "nums.pop(1)  # удалить элемент с индексом 1 (4)\n",
    "print(nums)"
   ]
  },
  {
   "cell_type": "code",
   "execution_count": 18,
   "metadata": {},
   "outputs": [
    {
     "name": "stdout",
     "output_type": "stream",
     "text": [
      "[-10, 12, 16, 35, 43, 67, 67, 89, 90]\n"
     ]
    }
   ],
   "source": [
    "nums.sort()\n",
    "print(nums)"
   ]
  },
  {
   "cell_type": "markdown",
   "metadata": {},
   "source": [
    "## Задача 1. \n",
    "\n",
    "<p>Необходимо наполнить список 30 случайными чисами.</p>"
   ]
  },
  {
   "cell_type": "code",
   "execution_count": null,
   "metadata": {},
   "outputs": [],
   "source": []
  }
 ],
 "metadata": {
  "kernelspec": {
   "display_name": "Python 3 (ipykernel)",
   "language": "python",
   "name": "python3"
  },
  "language_info": {
   "codemirror_mode": {
    "name": "ipython",
    "version": 3
   },
   "file_extension": ".py",
   "mimetype": "text/x-python",
   "name": "python",
   "nbconvert_exporter": "python",
   "pygments_lexer": "ipython3",
   "version": "3.7.7"
  }
 },
 "nbformat": 4,
 "nbformat_minor": 1
}