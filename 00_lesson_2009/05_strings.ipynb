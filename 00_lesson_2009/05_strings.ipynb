{
 "cells": [
  {
   "cell_type": "markdown",
   "metadata": {
    "collapsed": true
   },
   "source": [
    "## Строки\n",
    "\n",
    "<p>Строка - любая последовательность символов, заключенная в кавычки. Тип кавычек значения не имеет, вы можете использовать как <code>''</code>, так и <code>\"\"</code>.</p>\n",
    "\n",
    "<p>Строка должна начинаться и заканчиваться одним и тем же типом кавычек.</p>\n",
    "\n",
    "<p>Даже если строка пустая, она все равно строка.</p>"
   ]
  },
  {
   "cell_type": "code",
   "execution_count": 1,
   "metadata": {},
   "outputs": [
    {
     "name": "stdout",
     "output_type": "stream",
     "text": [
      "<class 'str'>\n"
     ]
    }
   ],
   "source": [
    "my_string = ''\n",
    "\n",
    "print(type(my_string))  # <class 'str'>"
   ]
  },
  {
   "cell_type": "markdown",
   "metadata": {},
   "source": [
    "<p>Функция <code>type()</code> отдает тип данных объекта, который вы ей передаете для анализа.</p>\n",
    "\n",
    "<p>Есть фраза, которая доставит много проблем <code>Hello! I'm a Python developer</code>.</p>"
   ]
  },
  {
   "cell_type": "code",
   "execution_count": 2,
   "metadata": {},
   "outputs": [
    {
     "ename": "SyntaxError",
     "evalue": "invalid syntax (2519651205.py, line 1)",
     "output_type": "error",
     "traceback": [
      "\u001b[0;36m  File \u001b[0;32m\"/var/folders/kg/wys5qw45109bn_kq6647wwzw0000gn/T/ipykernel_12789/2519651205.py\"\u001b[0;36m, line \u001b[0;32m1\u001b[0m\n\u001b[0;31m    print('Hello, I'm a Python developer')\u001b[0m\n\u001b[0m                    ^\u001b[0m\n\u001b[0;31mSyntaxError\u001b[0m\u001b[0;31m:\u001b[0m invalid syntax\n"
     ]
    }
   ],
   "source": [
    "print('Hello, I'm a Python developer')"
   ]
  },
  {
   "cell_type": "markdown",
   "metadata": {},
   "source": [
    "<p>После буквы I стоит апостроф, который является кавычкой. В этом месте строка закончилась, но после окончания строки есть еще символы, которые и являются причиной ошибки.</p>\n",
    "\n",
    "<p>Есть два выхода:</p>\n",
    "\n",
    "<ol>\n",
    "    <li>Использовать символ экранирования: <code>\\</code>.</li>\n",
    "    <li>Использовать разные типы кавычек: <code>\"Hello, I'm a Python developer\"</code></li>\n",
    "</ol>"
   ]
  },
  {
   "cell_type": "code",
   "execution_count": 4,
   "metadata": {},
   "outputs": [
    {
     "name": "stdout",
     "output_type": "stream",
     "text": [
      "Hello, I'm a Python developer\n",
      "Он сказал: \"Я поел!\".\n"
     ]
    }
   ],
   "source": [
    "print('Hello, I\\'m a Python developer')\n",
    "print(\"Он сказал: \\\"Я поел!\\\".\")"
   ]
  },
  {
   "cell_type": "code",
   "execution_count": 5,
   "metadata": {},
   "outputs": [
    {
     "name": "stdout",
     "output_type": "stream",
     "text": [
      "Hello, I'm a Python developer\n",
      "Он сказал: \"Я поел!\".\n"
     ]
    }
   ],
   "source": [
    "print(\"Hello, I'm a Python developer\")\n",
    "print('Он сказал: \"Я поел!\".')"
   ]
  },
  {
   "cell_type": "markdown",
   "metadata": {},
   "source": [
    "### Индексация строк\n",
    "\n",
    "<p>Строка - это упорядоченная последовательность символов. У каждого символа есть свой порядковый номер, который называется <b>индексом</b>. <b><u>Индексы начинаются с нуля</u></b>.</p>\n",
    "\n",
    "<pre><code>\n",
    " 0 1 2 3 4 \n",
    "'h e l l o'\n",
    "</code></pre>\n",
    "\n",
    "<p>Кавычки в индексацию не входят.</p>"
   ]
  },
  {
   "cell_type": "code",
   "execution_count": null,
   "metadata": {},
   "outputs": [],
   "source": [
    "phrase = 'Привет! Я разработчик!'"
   ]
  },
  {
   "cell_type": "markdown",
   "metadata": {},
   "source": [
    "<p>Чтобы обратиться к символу по индексу, нужно:</p>\n",
    "\n",
    "<ul>\n",
    "    <li>Написать имя переменной, которая хранит строку;</li>\n",
    "    <li>после имени поставить квадратные скобки <code>[]</code>;</li>\n",
    "    <li>внутри квадратных скобок указать индекс элемента к которому нужно обратиться: <code>name[1]</code>.</li>\n",
    "</ul>"
   ]
  },
  {
   "cell_type": "code",
   "execution_count": 7,
   "metadata": {},
   "outputs": [
    {
     "name": "stdout",
     "output_type": "stream",
     "text": [
      "и\n"
     ]
    }
   ],
   "source": [
    "print(phrase[2])  # вывожу букву и"
   ]
  },
  {
   "cell_type": "markdown",
   "metadata": {},
   "source": [
    "<p>Если вы обращаетесь к индексу, котрого в строке нет, вы получите <code>IndexError</code>.</p>"
   ]
  },
  {
   "cell_type": "code",
   "execution_count": 8,
   "metadata": {},
   "outputs": [
    {
     "ename": "IndexError",
     "evalue": "string index out of range",
     "output_type": "error",
     "traceback": [
      "\u001b[0;31m---------------------------------------------------------------------------\u001b[0m",
      "\u001b[0;31mIndexError\u001b[0m                                Traceback (most recent call last)",
      "\u001b[0;32m/var/folders/kg/wys5qw45109bn_kq6647wwzw0000gn/T/ipykernel_12789/444274374.py\u001b[0m in \u001b[0;36m<module>\u001b[0;34m\u001b[0m\n\u001b[0;32m----> 1\u001b[0;31m \u001b[0mprint\u001b[0m\u001b[0;34m(\u001b[0m\u001b[0mphrase\u001b[0m\u001b[0;34m[\u001b[0m\u001b[0;36m67\u001b[0m\u001b[0;34m]\u001b[0m\u001b[0;34m)\u001b[0m  \u001b[0;31m# вывожу букву и\u001b[0m\u001b[0;34m\u001b[0m\u001b[0;34m\u001b[0m\u001b[0m\n\u001b[0m",
      "\u001b[0;31mIndexError\u001b[0m: string index out of range"
     ]
    }
   ],
   "source": [
    "print(phrase[67])  # вывожу букву и"
   ]
  },
  {
   "cell_type": "markdown",
   "metadata": {},
   "source": [
    "### Математические операции со строками\n",
    "\n",
    "<p>Со строками можно выполнять математические операции.</p>\n",
    "\n",
    "<p>1. Базовая операция - сложение <code>+</code> (конкатенация). Строки можно складывать только со строками.</p>"
   ]
  },
  {
   "cell_type": "code",
   "execution_count": 13,
   "metadata": {},
   "outputs": [
    {
     "name": "stdout",
     "output_type": "stream",
     "text": [
      "14.03.2022 14:25\n"
     ]
    }
   ],
   "source": [
    "print('14.03.2022' + ' ' + '14:25')"
   ]
  },
  {
   "cell_type": "code",
   "execution_count": 10,
   "metadata": {},
   "outputs": [
    {
     "ename": "TypeError",
     "evalue": "can only concatenate str (not \"int\") to str",
     "output_type": "error",
     "traceback": [
      "\u001b[0;31m---------------------------------------------------------------------------\u001b[0m",
      "\u001b[0;31mTypeError\u001b[0m                                 Traceback (most recent call last)",
      "\u001b[0;32m/var/folders/kg/wys5qw45109bn_kq6647wwzw0000gn/T/ipykernel_12789/624019259.py\u001b[0m in \u001b[0;36m<module>\u001b[0;34m\u001b[0m\n\u001b[0;32m----> 1\u001b[0;31m \u001b[0mprint\u001b[0m\u001b[0;34m(\u001b[0m\u001b[0;34m'c'\u001b[0m \u001b[0;34m+\u001b[0m \u001b[0;36m4\u001b[0m\u001b[0;34m)\u001b[0m\u001b[0;34m\u001b[0m\u001b[0;34m\u001b[0m\u001b[0m\n\u001b[0m",
      "\u001b[0;31mTypeError\u001b[0m: can only concatenate str (not \"int\") to str"
     ]
    }
   ],
   "source": [
    "print('c' + 4)"
   ]
  },
  {
   "cell_type": "markdown",
   "metadata": {},
   "source": [
    "<p>2. Умножение <code>*</code>. Строки можно умножать только на числа.</p>"
   ]
  },
  {
   "cell_type": "code",
   "execution_count": 14,
   "metadata": {},
   "outputs": [
    {
     "name": "stdout",
     "output_type": "stream",
     "text": [
      "aaaaa\n"
     ]
    }
   ],
   "source": [
    "print('a' * 5)"
   ]
  },
  {
   "cell_type": "code",
   "execution_count": 15,
   "metadata": {},
   "outputs": [
    {
     "ename": "TypeError",
     "evalue": "can't multiply sequence by non-int of type 'str'",
     "output_type": "error",
     "traceback": [
      "\u001b[0;31m---------------------------------------------------------------------------\u001b[0m",
      "\u001b[0;31mTypeError\u001b[0m                                 Traceback (most recent call last)",
      "\u001b[0;32m/var/folders/kg/wys5qw45109bn_kq6647wwzw0000gn/T/ipykernel_12789/1202752123.py\u001b[0m in \u001b[0;36m<module>\u001b[0;34m\u001b[0m\n\u001b[0;32m----> 1\u001b[0;31m \u001b[0mprint\u001b[0m\u001b[0;34m(\u001b[0m\u001b[0;34m'a'\u001b[0m \u001b[0;34m*\u001b[0m \u001b[0;34m'f'\u001b[0m\u001b[0;34m)\u001b[0m\u001b[0;34m\u001b[0m\u001b[0;34m\u001b[0m\u001b[0m\n\u001b[0m",
      "\u001b[0;31mTypeError\u001b[0m: can't multiply sequence by non-int of type 'str'"
     ]
    }
   ],
   "source": [
    "print('a' * 'f')"
   ]
  },
  {
   "cell_type": "markdown",
   "metadata": {},
   "source": [
    "<p>Операция разности и операция деления невозможны в силу своей нелогичности.</p>"
   ]
  },
  {
   "cell_type": "markdown",
   "metadata": {},
   "source": [
    "### Методы строк\n",
    "\n",
    "<p>Метод - это такая штука, котоая либо модифицирует объект, либо добавляет ему дополнительные свойства.</p>\n",
    "\n",
    "<p>Чтобы применить метод к объекту:</p>\n",
    "\n",
    "<ul>\n",
    "    <li>Написать имя переменной, которая хранит строку;</li>\n",
    "    <li>после имени поставить точку и напистаь имя метода, который хотите использовать <code>var_name.method_name()</code>;</li>\n",
    "    <li>внутри скобок указать аргументы, если они есть.</li>\n",
    "</ul>\n",
    "\n",
    "<p>1. <code>lower()</code> - приводит все символы в строке в нижний регистр.</p>"
   ]
  },
  {
   "cell_type": "code",
   "execution_count": 18,
   "metadata": {},
   "outputs": [
    {
     "name": "stdout",
     "output_type": "stream",
     "text": [
      "False\n",
      "True\n"
     ]
    }
   ],
   "source": [
    "user_name = 'zodiac'\n",
    "user_name2 = 'Zodiac'\n",
    "\n",
    "print(user_name == user_name2)  # False\n",
    "\n",
    "print(user_name == user_name2.lower())  # True"
   ]
  },
  {
   "cell_type": "markdown",
   "metadata": {},
   "source": [
    "<p>2. <code>upper()</code> - приводит все символы в строке в верхний регистр.</p>"
   ]
  },
  {
   "cell_type": "code",
   "execution_count": 19,
   "metadata": {},
   "outputs": [
    {
     "name": "stdout",
     "output_type": "stream",
     "text": [
      "HELLO\n"
     ]
    }
   ],
   "source": [
    "print('hello'.upper())"
   ]
  },
  {
   "cell_type": "markdown",
   "metadata": {},
   "source": [
    "<p>3. <code>isupper(), islower()</code> - проверяют, является ли символ большим или маленьким.</p>"
   ]
  },
  {
   "cell_type": "code",
   "execution_count": 20,
   "metadata": {},
   "outputs": [
    {
     "name": "stdout",
     "output_type": "stream",
     "text": [
      "True\n",
      "False\n"
     ]
    }
   ],
   "source": [
    "print('f'.islower())\n",
    "print('A'.islower())"
   ]
  },
  {
   "cell_type": "markdown",
   "metadata": {},
   "source": [
    "<p>4. <code>isdigit()</code> - проверяют, является ли символ числом.</p>"
   ]
  },
  {
   "cell_type": "code",
   "execution_count": 21,
   "metadata": {},
   "outputs": [
    {
     "name": "stdout",
     "output_type": "stream",
     "text": [
      "False\n",
      "True\n",
      "False\n",
      "False\n"
     ]
    }
   ],
   "source": [
    "print(''.isdigit())\n",
    "print('56'.isdigit())\n",
    "print('1.256'.isdigit())\n",
    "print('hello'.isdigit())"
   ]
  },
  {
   "cell_type": "markdown",
   "metadata": {},
   "source": [
    "<p>5. <code>replace(a, b)</code> - заменяет в строке символ <code>a</code> символом <code>b</code>.</p>"
   ]
  },
  {
   "cell_type": "code",
   "execution_count": 24,
   "metadata": {},
   "outputs": [
    {
     "name": "stdout",
     "output_type": "stream",
     "text": [
      "Привет! Я разработчик!\n",
      "Привет! Я р@зр@ботчик!\n"
     ]
    }
   ],
   "source": [
    "print(phrase)\n",
    "# заменяю все буквы а на @\n",
    "print(phrase.replace('а', '@'))"
   ]
  },
  {
   "cell_type": "code",
   "execution_count": 26,
   "metadata": {},
   "outputs": [
    {
     "name": "stdout",
     "output_type": "stream",
     "text": [
      "Привет! Я разпианист!\n"
     ]
    }
   ],
   "source": [
    "print(phrase.replace('работчик', 'пианист'))"
   ]
  },
  {
   "cell_type": "code",
   "execution_count": 28,
   "metadata": {},
   "outputs": [
    {
     "name": "stdout",
     "output_type": "stream",
     "text": [
      "Привет! Я разработчик!\n"
     ]
    }
   ],
   "source": [
    "print(phrase.replace('?', '@'))\n",
    "# если в строке нет символа, метод ничего не сделает"
   ]
  },
  {
   "cell_type": "markdown",
   "metadata": {},
   "source": [
    "<p>6. <code>strip()</code> - удаляет пробелы в начале и конце строки. Количество пробелов не имеет значения.</p>"
   ]
  },
  {
   "cell_type": "code",
   "execution_count": 32,
   "metadata": {},
   "outputs": [
    {
     "name": "stdout",
     "output_type": "stream",
     "text": [
      "Сначала выглядит так: \"  привет, Андрей!       \".\n",
      "А теперь выглядит так: \"привет, Андрей!\".\n"
     ]
    }
   ],
   "source": [
    "phrase2 = '  привет, Андрей!       '\n",
    "\n",
    "print(f'Сначала выглядит так: \"{phrase2}\".')\n",
    "print(f'А теперь выглядит так: \"{phrase2.strip()}\".')"
   ]
  }
 ],
 "metadata": {
  "kernelspec": {
   "display_name": "Python 3 (ipykernel)",
   "language": "python",
   "name": "python3"
  },
  "language_info": {
   "codemirror_mode": {
    "name": "ipython",
    "version": 3
   },
   "file_extension": ".py",
   "mimetype": "text/x-python",
   "name": "python",
   "nbconvert_exporter": "python",
   "pygments_lexer": "ipython3",
   "version": "3.7.7"
  }
 },
 "nbformat": 4,
 "nbformat_minor": 1
}
