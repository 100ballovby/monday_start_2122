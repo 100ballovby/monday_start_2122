{
 "cells": [
  {
   "cell_type": "markdown",
   "metadata": {
    "collapsed": true,
    "pycharm": {
     "is_executing": true
    }
   },
   "source": [
    "## Угадай число \n",
    "\n",
    "<p>Необходимо написать программу, которая загадывает число в определенном диапазоне и просит пользователя его угадать.</p>\n",
    "\n",
    "<p>Компьютеру нужно \"помочь\" в загадывании чисел. Для этого нам понадобится модуль <code>random</code></p>"
   ]
  },
  {
   "cell_type": "code",
   "execution_count": 1,
   "metadata": {},
   "outputs": [],
   "source": [
    "import random as r \n",
    "\n",
    "secret_num = r.randint(1, 100)"
   ]
  },
  {
   "cell_type": "markdown",
   "metadata": {},
   "source": [
    "<p>Генерация случайного числа происходит внтури переменной <code>secret_num</code>, ее мы будем сравнивать с вводом пользователя и выдавать различные результаты.</p>"
   ]
  },
  {
   "cell_type": "code",
   "execution_count": 2,
   "metadata": {},
   "outputs": [
    {
     "name": "stdout",
     "output_type": "stream",
     "text": [
      "Как тебя зовут? Демид\n",
      "Привет, Демид! Я загадал число от 1 до 100. Угадай его.\n",
      "Введите число: 50\n",
      "Слишком много!\n",
      "Введите число: 25\n",
      "Слишком много!\n",
      "Введите число: 13\n",
      "Ты угадал! Молодец!\n"
     ]
    }
   ],
   "source": [
    "name = input('Как тебя зовут? ')\n",
    "\n",
    "print(f'Привет, {name}! Я загадал число от 1 до 100. Угадай его.')\n",
    "\n",
    "for guess in range(6):\n",
    "    answer = int(input('Введите число: '))\n",
    "    \n",
    "    if answer > secret_num:\n",
    "        print('Слишком много!')\n",
    "    elif answer < secret_num:\n",
    "        print('Слишком мало!')\n",
    "    elif answer == secret_num:\n",
    "        break  # принудительно выйти из цикла \n",
    "        \n",
    "if answer == secret_num:\n",
    "    print('Ты угадал! Молодец!')\n",
    "else:\n",
    "    print(f'Ты не угадал! Я загадывал число {secret_num}.')"
   ]
  },
  {
   "cell_type": "code",
   "execution_count": null,
   "metadata": {},
   "outputs": [],
   "source": []
  }
 ],
 "metadata": {
  "kernelspec": {
   "display_name": "Python 3 (ipykernel)",
   "language": "python",
   "name": "python3"
  },
  "language_info": {
   "codemirror_mode": {
    "name": "ipython",
    "version": 3
   },
   "file_extension": ".py",
   "mimetype": "text/x-python",
   "name": "python",
   "nbconvert_exporter": "python",
   "pygments_lexer": "ipython3",
   "version": "3.7.7"
  }
 },
 "nbformat": 4,
 "nbformat_minor": 1
}