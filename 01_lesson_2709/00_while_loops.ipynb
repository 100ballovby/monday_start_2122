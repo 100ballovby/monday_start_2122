{
 "cells": [
  {
   "cell_type": "markdown",
   "metadata": {
    "collapsed": true,
    "pycharm": {
     "is_executing": true
    }
   },
   "source": [
    "# Условные циклы\n",
    "\n",
    "<pre><code>\n",
    "while condition:\n",
    "--->do_smth()\n",
    "</code></pre>\n",
    "\n",
    "<p>Выполняет действия в теле цикла, по условию.</p>\n",
    "\n",
    "<p>Код, написанный с отступом, выполняется внутри блока (цикла, условия, функциии).</p>\n",
    "\n",
    "<p><b>Тело цикла</b> - это блок кода (с отступом), который выполняется внутри цикла.</p>\n",
    "\n",
    "<p><b>Объявление цикла</b> - это строчка, в которой указывается либо условие работы, либо количество повторений цикла.</p>\n",
    "\n",
    "\n",
    "### Задача\n",
    "<p>Нужно: ввести переменную <code>x</code>, которой при объявлении будет присвоено значение 10. В цикле нужно уменьшать переменную на 1, как только она станет 0, цикл должен закончиться.</p>"
   ]
  },
  {
   "cell_type": "code",
   "execution_count": 15,
   "metadata": {},
   "outputs": [
    {
     "name": "stdout",
     "output_type": "stream",
     "text": [
      "9\n",
      "8\n",
      "7\n",
      "6\n",
      "5\n",
      "4\n",
      "3\n",
      "2\n",
      "1\n",
      "0\n"
     ]
    }
   ],
   "source": [
    "x = 10  # создаю переменную\n",
    "\n",
    "while True:  # создал бесконечный цикл\n",
    "    x = x - 1  # декрементация / уменьшение значения переменной с присваиванием\n",
    "    # x -= 1 <- сокращенный вариант декремента, запись аналогична той, что сверху\n",
    "    \n",
    "    print(x)\n",
    "    if x <= 0:\n",
    "        break"
   ]
  },
  {
   "cell_type": "markdown",
   "metadata": {},
   "source": [
    "<p>У циклов есть два специальных слова: <code>break</code> и <code>continue</code>.</p>\n",
    "<ul>\n",
    "    <li><code>break</code> - принудительный выход из тела цикла.</li>\n",
    "    <li><code>continue</code> - принудельный пропуск повторения цикла.</li>\n",
    "</ul>"
   ]
  },
  {
   "cell_type": "code",
   "execution_count": 16,
   "metadata": {},
   "outputs": [
    {
     "name": "stdout",
     "output_type": "stream",
     "text": [
      "9\n",
      "8\n",
      "7\n",
      "6\n",
      "5\n",
      "4\n",
      "3\n",
      "2\n",
      "1\n",
      "0\n",
      "-1\n"
     ]
    }
   ],
   "source": [
    "x = 10\n",
    "\n",
    "while x >= 0:  # пока в переменной значение больше или равно 0\n",
    "    x -= 1  # уменьшаем значение\n",
    "    print(x)  # и печатаем его"
   ]
  },
  {
   "cell_type": "markdown",
   "metadata": {},
   "source": [
    "<p>Для решения подобных задач лучше использовать счетные циклы.</p>\n",
    "\n",
    "## Счетный цикл <code>for</code>\n",
    "\n",
    "<p>Счетный цикл <code>for</code> (цикл с управляющей переменной) работает по количеству повторений. То есть ему заранее известно, сколько раз нужно повторить выполнение какой-то задачи.</p>\n",
    "\n",
    "<pre><code>\n",
    "<b>for</b> управляющая_переменная <b>in</b> коллекция<b>:</b>\n",
    "--->do_smth()\n",
    "</code></pre>\n",
    "\n",
    "<p>Управляющая переменная цикла <code>for</code> обычно называется <code>i</code>. В нее записывается каждый член коллекции и за счет этого переменная способна управлять повторениями.</p>"
   ]
  },
  {
   "cell_type": "code",
   "execution_count": 9,
   "metadata": {},
   "outputs": [
    {
     "name": "stdout",
     "output_type": "stream",
     "text": [
      "1 hello\n",
      "2 hello\n",
      "3 hello\n",
      "4 hello\n"
     ]
    }
   ],
   "source": [
    "for i in 1, 2, 3, 4:\n",
    "    print(i, 'hello')"
   ]
  },
  {
   "cell_type": "markdown",
   "metadata": {},
   "source": [
    "## Руками вбивать?\n",
    "\n",
    "<p>Руками большие коллекции писать не нужно, потому что есть функция-генератор арифметической прогрессии - <code>range()</code>.</p>\n",
    "\n",
    "<p><code>range</code> имеет три варианта написания: </p>\n",
    "\n",
    "<ul>\n",
    "    <li><code>range(4)</code> - 0, 1, 2, 3</li>\n",
    "    <li><code>range(5, 10)</code> - 5, 6, 7, 8, 9 (10 не входит в прогрессию)</li>\n",
    "    <li><code>range(1, 11, 2)</code> - 1, 3, 5, 7, 9 (11 не входит в прогрессию).</li>\n",
    "</ul>\n",
    "\n",
    "### Как это поможет с задачей?\n",
    "\n",
    "<pre><code>\n",
    "x = СТАРТ\n",
    "\n",
    "пока x >= СТОП:\n",
    "    уменьшать x на ШАГ\n",
    "</code></pre>\n",
    "\n",
    "<p>У функции <code>range</code> есть три аргумента: старт, стоп, шаг.</p>\n",
    "\n",
    "<p>Мы перепишем цикл <code>while</code> с помощью цикла <code>for</code>.</p>"
   ]
  },
  {
   "cell_type": "code",
   "execution_count": 17,
   "metadata": {},
   "outputs": [
    {
     "name": "stdout",
     "output_type": "stream",
     "text": [
      "10\n",
      "9\n",
      "8\n",
      "7\n",
      "6\n",
      "5\n",
      "4\n",
      "3\n",
      "2\n",
      "1\n",
      "0\n"
     ]
    }
   ],
   "source": [
    "for x in range(10, -1, -1):  # последовательность с 10 до 0, в обратном порядке\n",
    "    print(x)"
   ]
  },
  {
   "cell_type": "markdown",
   "metadata": {},
   "source": [
    "<p>Можно решать как с одним видом цикла, так и с другим. Зависит от задач.</p>\n",
    "\n",
    "## Итерируемые объекты\n",
    "\n",
    "<p>Циклу <code>for</code> можно скармливать не только <code>range</code>. В качестве коллекции подходят любые итерируемые объекты: списки, кортежи, словари, <b>строчки</b>.</p>"
   ]
  },
  {
   "cell_type": "code",
   "execution_count": 19,
   "metadata": {},
   "outputs": [
    {
     "name": "stdout",
     "output_type": "stream",
     "text": [
      "Л\n",
      "я\n"
     ]
    }
   ],
   "source": [
    "for letter in 'Ля':\n",
    "    print(letter)"
   ]
  },
  {
   "cell_type": "markdown",
   "metadata": {},
   "source": [
    "<p>Строчка <code>'Ля'</code> является итерируемым объектом. <b>Итерируемый объект</b> - это объект, который может быть разложен на составляющие и может быть использован в цикле как генератор повторений.</p>"
   ]
  },
  {
   "cell_type": "code",
   "execution_count": null,
   "metadata": {},
   "outputs": [],
   "source": []
  }
 ],
 "metadata": {
  "kernelspec": {
   "display_name": "Python 3 (ipykernel)",
   "language": "python",
   "name": "python3"
  },
  "language_info": {
   "codemirror_mode": {
    "name": "ipython",
    "version": 3
   },
   "file_extension": ".py",
   "mimetype": "text/x-python",
   "name": "python",
   "nbconvert_exporter": "python",
   "pygments_lexer": "ipython3",
   "version": "3.7.7"
  }
 },
 "nbformat": 4,
 "nbformat_minor": 1
}
